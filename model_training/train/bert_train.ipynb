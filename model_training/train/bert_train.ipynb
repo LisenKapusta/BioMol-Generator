{
 "cells": [
  {
   "cell_type": "code",
   "execution_count": 1,
   "metadata": {},
   "outputs": [],
   "source": [
    "import pandas as pd\n",
    "from tqdm import tqdm\n",
    "tqdm.pandas()\n",
    "\n",
    "import torch\n",
    "import numpy as np\n",
    "import matplotlib.pyplot as plt\n",
    "from balanced_loss import Loss\n",
    "from sklearn.metrics import classification_report\n",
    "from sklearn.model_selection import train_test_split\n",
    "# from transformers import AutoTokenizer, AutoModel\n",
    "from transformers import T5Tokenizer, T5ForConditionalGeneration\n",
    "from torch.utils.data import DataLoader, Dataset\n",
    "from pathlib import Path\n",
    "\n",
    "from data.constants import LOCAL_MODELS_PATH, CHECKPOINTS_PATH, DATASET_PATH\n",
    "\n",
    "df = pd.read_parquet(DATASET_PATH)\n",
    "df = df.iloc[:5000, :]\n",
    "\n",
    "BASE_MODEL_PATH = LOCAL_MODELS_PATH / 't5-small'\n",
    "MAX_LEN = 512\n",
    "batch_size = 10\n",
    "TRAIN_BATCH_SIZE = batch_size\n",
    "VALID_BATCH_SIZE = batch_size\n",
    "TEST_BATCH_SIZE = batch_size\n",
    "\n",
    "LIMIT_NUM_MODELS = 2\n",
    "\n",
    "SEED = 2\n",
    "# DEVICE = 'cuda' if torch.cuda.is_available() else 'cpu'\n",
    "LEARNING_RATE = 2e-5\n",
    "N_EPOCHS = 10\n",
    "PATIENCE = 3\n",
    "\n",
    "model_name = BASE_MODEL_PATH.name\n",
    "CHECKPOINTS_DIR = CHECKPOINTS_PATH / model_name / 'checkpoints'\n",
    "CHECKPOINTS_DIR.mkdir(exist_ok=True, parents=True)\n",
    "MODEL_TO_SAVE_TEMPLE = 'model-{epoch}-epoch.pt'"
   ]
  },
  {
   "cell_type": "code",
   "execution_count": 2,
   "metadata": {},
   "outputs": [
    {
     "name": "stdout",
     "output_type": "stream",
     "text": [
      "<class 'pandas.core.frame.DataFrame'>\n",
      "RangeIndex: 5000 entries, 0 to 4999\n",
      "Data columns (total 6 columns):\n",
      " #   Column     Non-Null Count  Dtype  \n",
      "---  ------     --------------  -----  \n",
      " 0   Index      5000 non-null   object \n",
      " 1   Drug_ID    5000 non-null   object \n",
      " 2   Drug       5000 non-null   object \n",
      " 3   Target_ID  5000 non-null   object \n",
      " 4   Target     5000 non-null   object \n",
      " 5   Y          5000 non-null   float32\n",
      "dtypes: float32(1), object(5)\n",
      "memory usage: 215.0+ KB\n"
     ]
    }
   ],
   "source": [
    "df.info()"
   ]
  },
  {
   "cell_type": "code",
   "execution_count": 3,
   "metadata": {},
   "outputs": [
    {
     "name": "stdout",
     "output_type": "stream",
     "text": [
      "CUDA Available: True\n",
      "Number of GPUs: 1\n",
      "Current GPU: NVIDIA GeForce GTX 1650\n"
     ]
    }
   ],
   "source": [
    "# Проверка доступности GPU\n",
    "print(\"CUDA Available:\", torch.cuda.is_available())\n",
    "print(\"Number of GPUs:\", torch.cuda.device_count())\n",
    "if torch.cuda.is_available():\n",
    "    print(\"Current GPU:\", torch.cuda.get_device_name(0))\n",
    "\n",
    "# Указание устройства\n",
    "DEVICE = torch.device(\"cuda:0\")  # Используем первую видеокарту (индекс 0)"
   ]
  },
  {
   "cell_type": "code",
   "execution_count": 4,
   "metadata": {},
   "outputs": [],
   "source": [
    "df_train, df_test = train_test_split(df, test_size=0.2, shuffle=True, random_state=42)\n",
    "df_train, df_valid = train_test_split(df, test_size=0.1, shuffle=True, random_state=42)\n",
    "\n",
    "df_train.reset_index(drop=True, inplace=True)\n",
    "df_valid.reset_index(drop=True, inplace=True)\n",
    "df_test.reset_index(drop=True, inplace=True)"
   ]
  },
  {
   "cell_type": "code",
   "execution_count": 5,
   "metadata": {},
   "outputs": [
    {
     "name": "stderr",
     "output_type": "stream",
     "text": [
      "You are using the default legacy behaviour of the <class 'transformers.models.t5.tokenization_t5.T5Tokenizer'>. This is expected, and simply means that the `legacy` (previous) behavior will be used so nothing changes for you. If you want to use the new behaviour, set `legacy=False`. This should only be set if you understand what it means, and thoroughly read the reason why this was added as explained in https://github.com/huggingface/transformers/pull/24565\n"
     ]
    }
   ],
   "source": [
    "class ProteinSeqSmailesDataset(Dataset):\n",
    "    def __init__(self, df, tokenizer_path, input_column, output_column, max_len):\n",
    "        self.max_len = max_len\n",
    "        self.df = df\n",
    "        self.input_column = input_column\n",
    "        self.output_column = output_column\n",
    "        self.tokenizer = T5Tokenizer.from_pretrained(tokenizer_path)\n",
    "\n",
    "    def __len__(self):\n",
    "        return len(self.df)\n",
    "    \n",
    "    def __getitem__(self, index):\n",
    "        row = self.df.iloc[index]\n",
    "\n",
    "        inputs = self.tokenizer.encode_plus(\n",
    "            row[self.input_column],\n",
    "            add_special_tokens=True,\n",
    "            max_length=self.max_len,\n",
    "            padding='max_length',\n",
    "            return_token_type_ids=True,\n",
    "            return_attention_mask=True,\n",
    "            truncation=True,\n",
    "            return_tensors='pt'\n",
    "        )\n",
    "\n",
    "        labels = self.tokenizer.encode_plus(\n",
    "            row[self.output_column],\n",
    "            add_special_tokens=True,\n",
    "            max_length=self.max_len,\n",
    "            padding='max_length',\n",
    "            return_token_type_ids=True,\n",
    "            return_attention_mask=True,\n",
    "            truncation=True,\n",
    "            return_tensors='pt'\n",
    "        )\n",
    "    \n",
    "        return {\n",
    "            'input_ids': inputs['input_ids'].flatten(),\n",
    "            'attention_mask': inputs['attention_mask'].flatten(),\n",
    "            'labels': labels['input_ids'].flatten(),\n",
    "        }\n",
    "\n",
    "train_dataset = ProteinSeqSmailesDataset(df_train, BASE_MODEL_PATH, 'Target', 'Drug', MAX_LEN)\n",
    "valid_dataset = ProteinSeqSmailesDataset(df_valid, BASE_MODEL_PATH, 'Target', 'Drug', MAX_LEN)\n",
    "test_dataset = ProteinSeqSmailesDataset(df_test, BASE_MODEL_PATH, 'Target', 'Drug', MAX_LEN)\n"
   ]
  },
  {
   "cell_type": "code",
   "execution_count": 6,
   "metadata": {},
   "outputs": [
    {
     "data": {
      "text/plain": [
       "dict_keys(['input_ids', 'attention_mask', 'labels'])"
      ]
     },
     "execution_count": 6,
     "metadata": {},
     "output_type": "execute_result"
    }
   ],
   "source": [
    "train_dataset[0].keys()"
   ]
  },
  {
   "cell_type": "code",
   "execution_count": 7,
   "metadata": {},
   "outputs": [],
   "source": [
    "train_loader = DataLoader(train_dataset, batch_size=TRAIN_BATCH_SIZE, generator=torch.manual_seed(SEED), num_workers=0, shuffle=True, pin_memory=True)\n",
    "valid_loader = DataLoader(valid_dataset, batch_size=VALID_BATCH_SIZE, generator=torch.manual_seed(SEED), num_workers=0, shuffle=True, pin_memory=True)\n",
    "test_loader = DataLoader(test_dataset, batch_size=TEST_BATCH_SIZE, generator=torch.manual_seed(SEED), num_workers=0, shuffle=True, pin_memory=True)"
   ]
  },
  {
   "cell_type": "code",
   "execution_count": 8,
   "metadata": {},
   "outputs": [],
   "source": [
    "model = T5ForConditionalGeneration.from_pretrained(BASE_MODEL_PATH)\n",
    "for param in model.parameters():\n",
    "    param.requires_grad = True\n",
    "\n",
    "model = model.to(DEVICE)"
   ]
  },
  {
   "cell_type": "code",
   "execution_count": 9,
   "metadata": {},
   "outputs": [],
   "source": [
    "optimizer = torch.optim.AdamW(params=model.parameters(), lr=LEARNING_RATE)\n",
    "scheduler = torch.optim.lr_scheduler.ReduceLROnPlateau(\n",
    "    optimizer=optimizer,\n",
    "    mode='min',\n",
    "    factor=0.9,\n",
    "    patience=2,\n",
    "    )"
   ]
  },
  {
   "cell_type": "code",
   "execution_count": 10,
   "metadata": {},
   "outputs": [],
   "source": [
    "loss_status = {\n",
    "    'train': [],\n",
    "    'valid': []\n",
    "}\n",
    "min_valid_loss = float('inf')\n",
    "epochs_without_improvement = 0\n",
    "saved_models_path = []"
   ]
  },
  {
   "cell_type": "code",
   "execution_count": 11,
   "metadata": {},
   "outputs": [
    {
     "name": "stderr",
     "output_type": "stream",
     "text": [
      "Train:   0%|          | 0/450 [00:00<?, ?it/s]Passing a tuple of `past_key_values` is deprecated and will be removed in Transformers v4.48.0. You should pass an instance of `EncoderDecoderCache` instead, e.g. `past_key_values=EncoderDecoderCache.from_legacy_cache(past_key_values)`.\n",
      "Train: 100%|██████████| 450/450 [3:16:43<00:00, 26.23s/it]  \n",
      "Valid: 100%|██████████| 50/50 [01:54<00:00,  2.30s/it]\n"
     ]
    },
    {
     "name": "stdout",
     "output_type": "stream",
     "text": [
      "---------------------EPOCH: 0---------------------\n",
      "Loss:\n",
      "  Train: 1.31538\n",
      "  Valid: 0.47511\n",
      "--------------------------------------------------\n",
      "\n"
     ]
    },
    {
     "name": "stderr",
     "output_type": "stream",
     "text": [
      "Train: 100%|██████████| 450/450 [3:16:24<00:00, 26.19s/it]  \n",
      "Valid: 100%|██████████| 50/50 [01:58<00:00,  2.37s/it]\n"
     ]
    },
    {
     "name": "stdout",
     "output_type": "stream",
     "text": [
      "---------------------EPOCH: 1---------------------\n",
      "Loss:\n",
      "  Train: 0.38385\n",
      "  Valid: 0.34113\n",
      "--------------------------------------------------\n",
      "\n"
     ]
    },
    {
     "name": "stderr",
     "output_type": "stream",
     "text": [
      "Train: 100%|██████████| 450/450 [3:16:07<00:00, 26.15s/it]  \n",
      "Valid: 100%|██████████| 50/50 [01:56<00:00,  2.33s/it]\n"
     ]
    },
    {
     "name": "stdout",
     "output_type": "stream",
     "text": [
      "---------------------EPOCH: 2---------------------\n",
      "Loss:\n",
      "  Train: 0.29996\n",
      "  Valid: 0.28189\n",
      "--------------------------------------------------\n",
      "\n"
     ]
    },
    {
     "name": "stderr",
     "output_type": "stream",
     "text": [
      "Train: 100%|██████████| 450/450 [3:16:11<00:00, 26.16s/it]  \n",
      "Valid: 100%|██████████| 50/50 [01:58<00:00,  2.37s/it]\n"
     ]
    },
    {
     "name": "stdout",
     "output_type": "stream",
     "text": [
      "---------------------EPOCH: 3---------------------\n",
      "Loss:\n",
      "  Train: 0.25348\n",
      "  Valid: 0.24429\n",
      "--------------------------------------------------\n",
      "\n"
     ]
    },
    {
     "name": "stderr",
     "output_type": "stream",
     "text": [
      "Train: 100%|██████████| 450/450 [3:16:46<00:00, 26.24s/it]  \n",
      "Valid: 100%|██████████| 50/50 [01:58<00:00,  2.36s/it]\n"
     ]
    },
    {
     "name": "stdout",
     "output_type": "stream",
     "text": [
      "---------------------EPOCH: 4---------------------\n",
      "Loss:\n",
      "  Train: 0.22513\n",
      "  Valid: 0.22207\n",
      "--------------------------------------------------\n",
      "\n"
     ]
    },
    {
     "name": "stderr",
     "output_type": "stream",
     "text": [
      "Train: 100%|██████████| 450/450 [3:16:44<00:00, 26.23s/it]  \n",
      "Valid: 100%|██████████| 50/50 [01:58<00:00,  2.37s/it]\n"
     ]
    },
    {
     "name": "stdout",
     "output_type": "stream",
     "text": [
      "---------------------EPOCH: 5---------------------\n",
      "Loss:\n",
      "  Train: 0.20724\n",
      "  Valid: 0.20660\n",
      "--------------------------------------------------\n",
      "\n"
     ]
    },
    {
     "name": "stderr",
     "output_type": "stream",
     "text": [
      "Train: 100%|██████████| 450/450 [3:16:38<00:00, 26.22s/it]  \n",
      "Valid: 100%|██████████| 50/50 [01:58<00:00,  2.37s/it]\n"
     ]
    },
    {
     "name": "stdout",
     "output_type": "stream",
     "text": [
      "---------------------EPOCH: 6---------------------\n",
      "Loss:\n",
      "  Train: 0.19421\n",
      "  Valid: 0.19359\n",
      "--------------------------------------------------\n",
      "\n"
     ]
    },
    {
     "name": "stderr",
     "output_type": "stream",
     "text": [
      "Train: 100%|██████████| 450/450 [3:13:08<00:00, 25.75s/it]  \n",
      "Valid: 100%|██████████| 50/50 [01:38<00:00,  1.98s/it]\n"
     ]
    },
    {
     "name": "stdout",
     "output_type": "stream",
     "text": [
      "---------------------EPOCH: 7---------------------\n",
      "Loss:\n",
      "  Train: 0.18290\n",
      "  Valid: 0.18350\n",
      "--------------------------------------------------\n",
      "\n"
     ]
    },
    {
     "name": "stderr",
     "output_type": "stream",
     "text": [
      "Train: 100%|██████████| 450/450 [3:11:06<00:00, 25.48s/it]  \n",
      "Valid: 100%|██████████| 50/50 [01:39<00:00,  1.99s/it]\n"
     ]
    },
    {
     "name": "stdout",
     "output_type": "stream",
     "text": [
      "---------------------EPOCH: 8---------------------\n",
      "Loss:\n",
      "  Train: 0.17417\n",
      "  Valid: 0.17631\n",
      "--------------------------------------------------\n",
      "\n"
     ]
    },
    {
     "name": "stderr",
     "output_type": "stream",
     "text": [
      "Train: 100%|██████████| 450/450 [3:10:45<00:00, 25.43s/it]  \n",
      "Valid: 100%|██████████| 50/50 [01:38<00:00,  1.98s/it]\n"
     ]
    },
    {
     "name": "stdout",
     "output_type": "stream",
     "text": [
      "---------------------EPOCH: 9---------------------\n",
      "Loss:\n",
      "  Train: 0.16689\n",
      "  Valid: 0.16801\n",
      "--------------------------------------------------\n",
      "\n"
     ]
    }
   ],
   "source": [
    "for epoch in range(N_EPOCHS):\n",
    "    train_losses = []\n",
    "\n",
    "    model.train()\n",
    "    for i, batch in enumerate(tqdm(train_loader, 'Train')):\n",
    "        optimizer.zero_grad()\n",
    "\n",
    "        batch = {key: value.to(DEVICE) for key, value in batch.items()}\n",
    "        labels = batch['labels']\n",
    "        del batch['labels']\n",
    "\n",
    "        outputs = model(**batch, labels=labels)\n",
    "        loss = outputs.loss\n",
    "\n",
    "        loss.backward()\n",
    "        optimizer.step()\n",
    "\n",
    "        train_losses.append(loss.item())\n",
    "\n",
    "    valid_losses = []\n",
    "    model.eval\n",
    "    with torch.no_grad():\n",
    "        for i, batch in enumerate(tqdm(valid_loader, 'Valid')):\n",
    "            batch = {key: value.to(DEVICE) for key, value in batch.items()}\n",
    "            labels = batch['labels']\n",
    "            del batch['labels']\n",
    "\n",
    "            outputs = model(**batch, labels=labels)\n",
    "            loss = outputs.loss\n",
    "\n",
    "            valid_losses.append(loss.item())\n",
    "    \n",
    "    loss_status['train'].append(np.mean(train_losses))\n",
    "    loss_status['valid'].append(np.mean(valid_losses))\n",
    "\n",
    "    scheduler.step(loss_status['valid'][-1])\n",
    "\n",
    "    if loss_status[\"valid\"][-1] < min_valid_loss:\n",
    "        min_valid_loss = loss_status[\"valid\"][-1]\n",
    "        epochs_without_improvement = 0\n",
    "\n",
    "        model_name = CHECKPOINTS_DIR / MODEL_TO_SAVE_TEMPLE.format(epoch=epoch)\n",
    "        torch.save(model.state_dict(), str(model_name))\n",
    "\n",
    "        saved_models_path.append(model_name)\n",
    "        if len(saved_models_path) > LIMIT_NUM_MODELS:\n",
    "            model_to_del = saved_models_path[0]\n",
    "            model_to_del.unlink()\n",
    "            del saved_models_path[0]\n",
    "    else:\n",
    "        epochs_without_improvement += 1\n",
    "    \n",
    "    if epochs_without_improvement >= PATIENCE:\n",
    "        print(f'Early stopping triggered after {epoch + 1} epochs.')\n",
    "        break\n",
    "\n",
    "\n",
    "    print(f\"{'EPOCH: ' + str(epoch):-^50}\")\n",
    "    print(f\"Loss:\")\n",
    "    print(f\"  Train: {loss_status['train'][-1]:.5f}\")\n",
    "    print(f\"  Valid: {loss_status['valid'][-1]:.5f}\")\n",
    "    print(\"-\" * 50, end=\"\\n\\n\")\n"
   ]
  },
  {
   "cell_type": "code",
   "execution_count": 12,
   "metadata": {},
   "outputs": [
    {
     "data": {
      "image/png": "[encoded data removed]",
      "text/plain": [
       "<Figure size 640x480 with 1 Axes>"
      ]
     },
     "metadata": {},
     "output_type": "display_data"
    }
   ],
   "source": [
    "plt.plot(loss_status['train'], label='train')\n",
    "plt.plot(loss_status['valid'], label='valid')\n",
    "plt.legend()\n",
    "plt.show()\n"
   ]
  },
  {
   "cell_type": "code",
   "execution_count": 13,
   "metadata": {},
   "outputs": [
    {
     "name": "stderr",
     "output_type": "stream",
     "text": [
      "Test: 100%|██████████| 100/100 [05:58<00:00,  3.58s/it]"
     ]
    },
    {
     "name": "stdout",
     "output_type": "stream",
     "text": [
      "Test Loss: 0.1369\n"
     ]
    },
    {
     "name": "stderr",
     "output_type": "stream",
     "text": [
      "\n"
     ]
    }
   ],
   "source": [
    "def evaluate_test_loss(model, data_loader, device):\n",
    "    model.eval()\n",
    "    test_losses = []\n",
    "    with torch.no_grad():\n",
    "        for batch in tqdm(data_loader, \"Test\"):\n",
    "            batch = {key: value.to(device) for key, value in batch.items()}\n",
    "            labels = batch[\"labels\"]\n",
    "            del batch[\"labels\"]\n",
    "\n",
    "            outputs = model(**batch, labels=labels)\n",
    "            loss = outputs.loss\n",
    "            test_losses.append(loss.item())\n",
    "\n",
    "    return np.mean(test_losses)\n",
    "\n",
    "# Вычисление потерь на тестовом наборе\n",
    "test_loss = evaluate_test_loss(model, test_loader, DEVICE)\n",
    "print(f\"Test Loss: {test_loss:.4f}\")"
   ]
  },
  {
   "cell_type": "markdown",
   "metadata": {},
   "source": [
    "# Промедуточные выводы:\n",
    "Было проведено обучение модели на 10 эпохах. Однако, судя по графику потерь (loss) и значениям train_loss и valid_loss, модель продолжает улучшаться, хотя темпы улучшения замедляются. Это означает, что можно продолжить обучение для достижения лучших результатов.\n",
    "\n",
    " • Validation Loss:  Последнее значение valid_loss = 0.16801.\n",
    " • Train Loss:  Последнее значение train_loss = 0.16689.\n",
    "\n",
    "Разница между train_loss и valid_loss минимальна, что указывает на отсутствие переобучения.\n",
    "Вывод:  Модель еще не достигла своего предела, и можно продолжить обучение.\n",
    "\n",
    "Поскольку модель уже прошла несколько эпох, дальнейшее обучение с той же скоростью может привести к \"перескакиванию\" через минимум функции потерь. Рекомендуется уменьшить скорость обучения.\n",
    "\n",
    "\n",
    "## План дальше:\n",
    "Сначала дообчуить 5 этох модель на текущих данных, чтобы достичь плато, а затем добавить новую порцию данных."
   ]
  },
  {
   "cell_type": "code",
   "execution_count": null,
   "metadata": {},
   "outputs": [
    {
     "name": "stderr",
     "output_type": "stream",
     "text": [
      "Train:   0%|          | 1/450 [00:43<5:29:00, 43.97s/it]"
     ]
    }
   ],
   "source": [
    "model.load_state_dict(torch.load(saved_models_path[-1]))\n",
    "\n",
    "optimizer = torch.optim.AdamW(params=model.parameters(), lr=LEARNING_RATE / 10)\n",
    "\n",
    "MODEL_TO_SAVE_TEMPLE = 'continue-model-{epoch}-epoch.pt'\n",
    "N_EPOCHS_CONTINUE = 5\n",
    "for epoch in range(N_EPOCHS_CONTINUE):\n",
    "    train_losses = []\n",
    "    model.train()\n",
    "    for i, batch in enumerate(tqdm(train_loader, 'Train')):\n",
    "        optimizer.zero_grad()\n",
    "        batch = {key: value.to(DEVICE) for key, value in batch.items()}\n",
    "        labels = batch['labels']\n",
    "        del batch['labels']\n",
    "        outputs = model(**batch, labels=labels)\n",
    "        loss = outputs.loss\n",
    "        loss.backward()\n",
    "        optimizer.step()\n",
    "        train_losses.append(loss.item())\n",
    "    \n",
    "    valid_losses = []\n",
    "    model.eval()\n",
    "    with torch.no_grad():\n",
    "        for i, batch in enumerate(tqdm(valid_loader, 'Valid')):\n",
    "            batch = {key: value.to(DEVICE) for key, value in batch.items()}\n",
    "            labels = batch['labels']\n",
    "            del batch['labels']\n",
    "            outputs = model(**batch, labels=labels)\n",
    "            loss = outputs.loss\n",
    "            valid_losses.append(loss.item())\n",
    "    \n",
    "    loss_status['train'].append(np.mean(train_losses))\n",
    "    loss_status['valid'].append(np.mean(valid_losses))\n",
    "    scheduler.step(loss_status['valid'][-1])\n",
    "    \n",
    "    if loss_status[\"valid\"][-1] < min_valid_loss:\n",
    "        min_valid_loss = loss_status[\"valid\"][-1]\n",
    "        epochs_without_improvement = 0\n",
    "        model_name = CHECKPOINTS_DIR / MODEL_TO_SAVE_TEMPLE.format(epoch=epoch + N_EPOCHS)\n",
    "        torch.save(model.state_dict(), str(model_name))\n",
    "        saved_models_path.append(model_name)\n",
    "        if len(saved_models_path) > LIMIT_NUM_MODELS:\n",
    "            model_to_del = saved_models_path[0]\n",
    "            model_to_del.unlink()\n",
    "            del saved_models_path[0]\n",
    "    else:\n",
    "        epochs_without_improvement += 1\n",
    "    \n",
    "    if epochs_without_improvement >= PATIENCE:\n",
    "        print(f'Early stopping triggered after {epoch + 1} epochs.')\n",
    "        break\n",
    "    \n",
    "    print(f\"{'EPOCH: ' + str(epoch + N_EPOCHS):-^50}\")\n",
    "    print(f\"Loss:\")\n",
    "    print(f\"  Train: {loss_status['train'][-1]:.5f}\")\n",
    "    print(f\"  Valid: {loss_status['valid'][-1]:.5f}\")\n",
    "    print(\"-\" * 50)\n"
   ]
  },
  {
   "cell_type": "code",
   "execution_count": null,
   "metadata": {},
   "outputs": [],
   "source": []
  }
 ],
 "metadata": {
  "kernelspec": {
   "display_name": ".graduate_work_env",
   "language": "python",
   "name": "python3"
  },
  "language_info": {
   "codemirror_mode": {
    "name": "ipython",
    "version": 3
   },
   "file_extension": ".py",
   "mimetype": "text/x-python",
   "name": "python",
   "nbconvert_exporter": "python",
   "pygments_lexer": "ipython3",
   "version": "3.10.16"
  }
 },
 "nbformat": 4,
 "nbformat_minor": 2
}
