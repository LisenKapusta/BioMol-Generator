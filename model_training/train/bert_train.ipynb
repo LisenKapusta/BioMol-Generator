{
 "cells": [
  {
   "cell_type": "code",
   "execution_count": 1,
   "metadata": {},
   "outputs": [
    {
     "name": "stdout",
     "output_type": "stream",
     "text": [
      "c:\\users\\eliza\\graduate_work_rep\\biomol-generator\\data\\dataset.parquet\n"
     ]
    }
   ],
   "source": [
    "import pandas as pd\n",
    "from tqdm import tqdm\n",
    "tqdm.pandas()\n",
    "\n",
    "import torch\n",
    "import numpy as np\n",
    "import matplotlib.pyplot as plt\n",
    "from balanced_loss import Loss\n",
    "from sklearn.metrics import classification_report\n",
    "from sklearn.model_selection import train_test_split\n",
    "from transformers import AutoTokenizer, AutoModel\n",
    "from torch.utils.data import DataLoader, Dataset\n",
    "from pathlib import Path\n",
    "\n",
    "from data.constants import LOCAL_MODELS_PATH, CHECKPOINTS_PATH, DATASET_PATH\n",
    "\n",
    "df = pd.read_parquet(DATASET_PATH)\n",
    "\n",
    "\n",
    "BASE_MODEL_PATH = LOCAL_MODELS_PATH / 'bert-tiny'\n",
    "MAX_LEN = 512\n",
    "batch_size = 8\n",
    "TRAIN_BATCH_SIZE = batch_size\n",
    "VALID_BATCH_SIZE = batch_size\n",
    "TEST_BATCH_SIZE = batch_size\n",
    "\n",
    "LIMIT_NUM_MODELS = 2\n",
    "\n",
    "SEED = 2\n",
    "DEVICE = 'cuda' if torch.cuda.is_available() else 'cpu'\n",
    "LEARNING_RATE = 2e-5\n",
    "N_EPOCHS = 3\n",
    "\n",
    "model_name = BASE_MODEL_PATH.name\n",
    "CHECKPOINTS_DIR = CHECKPOINTS_PATH / model_name / 'checkpoints'\n",
    "CHECKPOINTS_DIR.mkdir(exist_ok=True, parents=True)\n",
    "MODEL_TO_SAVE_TEMPLE = 'model-{epoch}-epoch.pt'"
   ]
  },
  {
   "cell_type": "code",
   "execution_count": 2,
   "metadata": {},
   "outputs": [],
   "source": [
    "df_train, df_test = train_test_split(df, test_size=0.2, shuffle=True, random_state=42)\n",
    "df_train, df_valid = train_test_split(df, test_size=0.1, shuffle=True, random_state=42)\n",
    "\n",
    "df_train.reset_index(drop=True, inplace=True)\n",
    "df_valid.reset_index(drop=True, inplace=True)\n",
    "df_test.reset_index(drop=True, inplace=True)"
   ]
  },
  {
   "cell_type": "code",
   "execution_count": 3,
   "metadata": {},
   "outputs": [],
   "source": [
    "class BERTDataset(Dataset):\n",
    "    def __init__(self, df, tokenizer_path, input_column, output_column, max_len):\n",
    "        self.max_len = max_len\n",
    "        self.df = df\n",
    "        self.input_column = input_column\n",
    "        self.output_column = output_column\n",
    "        self.tokenizer = AutoTokenizer.from_pretrained(tokenizer_path)\n",
    "\n",
    "    def __len__(self):\n",
    "        return len(self.df)\n",
    "    \n",
    "    def __getitem__(self, index):\n",
    "        row = self.df.iloc[index]\n",
    "\n",
    "        inputs = self.tokenizer.encode_plus(\n",
    "            row[self.input_column],\n",
    "            add_special_tokens=True,\n",
    "            max_length=self.max_len,\n",
    "            padding='max_length',\n",
    "            return_token_type_ids=True,\n",
    "            return_attention_mask=True,\n",
    "            truncation=True,\n",
    "            return_tensors='pt'\n",
    "        )\n",
    "\n",
    "        labels = self.tokenizer.encode_plus(\n",
    "            row[self.output_column],\n",
    "            add_special_tokens=True,\n",
    "            max_length=self.max_len,\n",
    "            padding='max_length',\n",
    "            return_token_type_ids=True,\n",
    "            return_attention_mask=True,\n",
    "            truncation=True,\n",
    "            return_tensors='pt'\n",
    "        )\n",
    "    \n",
    "        return {\n",
    "            'input_ids': inputs['input_ids'].flatten(),\n",
    "            'attention_mask': inputs['attention_mask'].flatten(),\n",
    "            'labels': labels['input_ids'].flatten(),\n",
    "        }\n",
    "\n",
    "train_dataset = BERTDataset(df_train, BASE_MODEL_PATH, 'Target', 'Drug', MAX_LEN)\n",
    "valid_dataset = BERTDataset(df_valid, BASE_MODEL_PATH, 'Target', 'Drug', MAX_LEN)\n",
    "test_dataset = BERTDataset(df_test, BASE_MODEL_PATH, 'Target', 'Drug', MAX_LEN)\n"
   ]
  },
  {
   "cell_type": "code",
   "execution_count": 4,
   "metadata": {},
   "outputs": [
    {
     "data": {
      "text/plain": [
       "dict_keys(['input_ids', 'attention_mask', 'labels'])"
      ]
     },
     "execution_count": 4,
     "metadata": {},
     "output_type": "execute_result"
    }
   ],
   "source": [
    "train_dataset[0].keys()"
   ]
  },
  {
   "cell_type": "code",
   "execution_count": 5,
   "metadata": {},
   "outputs": [],
   "source": [
    "train_loader = DataLoader(train_dataset, batch_size=TRAIN_BATCH_SIZE, generator=torch.manual_seed(SEED), num_workers=8, shuffle=True, pin_memory=True)\n",
    "vallid_loader = DataLoader(valid_dataset, batch_size=VALID_BATCH_SIZE, generator=torch.manual_seed(SEED), num_workers=8, shuffle=True, pin_memory=True)\n",
    "test_loader = DataLoader(test_dataset, batch_size=TEST_BATCH_SIZE, generator=torch.manual_seed(SEED), num_workers=8, shuffle=True, pin_memory=True)"
   ]
  },
  {
   "cell_type": "code",
   "execution_count": 6,
   "metadata": {},
   "outputs": [],
   "source": [
    "model = AutoModel.from_pretrained(BASE_MODEL_PATH)\n",
    "for param in model.parameters():\n",
    "    param.requires_grad = True\n",
    "\n",
    "model = model.to(DEVICE)"
   ]
  },
  {
   "cell_type": "code",
   "execution_count": null,
   "metadata": {},
   "outputs": [],
   "source": []
  }
 ],
 "metadata": {
  "kernelspec": {
   "display_name": ".graduate_work_env",
   "language": "python",
   "name": "python3"
  },
  "language_info": {
   "codemirror_mode": {
    "name": "ipython",
    "version": 3
   },
   "file_extension": ".py",
   "mimetype": "text/x-python",
   "name": "python",
   "nbconvert_exporter": "python",
   "pygments_lexer": "ipython3",
   "version": "3.10.16"
  }
 },
 "nbformat": 4,
 "nbformat_minor": 2
}
