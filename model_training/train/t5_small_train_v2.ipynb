{
 "cells": [
  {
   "cell_type": "code",
   "execution_count": 1,
   "metadata": {},
   "outputs": [],
   "source": [
    "import pandas as pd\n",
    "from tqdm import tqdm\n",
    "tqdm.pandas()\n",
    "\n",
    "import torch\n",
    "import numpy as np\n",
    "import matplotlib.pyplot as plt\n",
    "from balanced_loss import Loss\n",
    "from sklearn.metrics import classification_report\n",
    "from sklearn.model_selection import train_test_split\n",
    "# from transformers import AutoTokenizer, AutoModel\n",
    "from transformers import T5Tokenizer, T5ForConditionalGeneration\n",
    "from torch.utils.data import DataLoader, Dataset\n",
    "from pathlib import Path\n",
    "\n",
    "from data.constants import LOCAL_MODELS_PATH, CHECKPOINTS_PATH, TRAIN_DF_PATH, VALID_DF_PATH, TEST_DF_PATH\n",
    "\n",
    "\n",
    "BASE_MODEL_PATH = LOCAL_MODELS_PATH / 't5-small'\n",
    "MAX_LEN = 512\n",
    "batch_size = 8\n",
    "TRAIN_BATCH_SIZE = batch_size\n",
    "VALID_BATCH_SIZE = batch_size\n",
    "TEST_BATCH_SIZE = batch_size\n",
    "\n",
    "LIMIT_NUM_MODELS = 2\n",
    "\n",
    "SEED = 2\n",
    "# DEVICE = 'cuda' if torch.cuda.is_available() else 'cpu'\n",
    "LEARNING_RATE = 2e-5\n",
    "N_EPOCHS = 15\n",
    "PATIENCE = 3\n",
    "\n",
    "model_name = BASE_MODEL_PATH.name\n",
    "CHECKPOINTS_DIR = CHECKPOINTS_PATH / model_name / 'checkpoints_train_v2'\n",
    "CHECKPOINTS_DIR.mkdir(exist_ok=True, parents=True)\n",
    "MODEL_TO_SAVE_TEMPLE = 'model-{epoch}-epoch.pt'"
   ]
  },
  {
   "cell_type": "code",
   "execution_count": 2,
   "metadata": {},
   "outputs": [],
   "source": [
    "df_train = pd.read_parquet(TRAIN_DF_PATH)\n",
    "df_valid = pd.read_parquet(VALID_DF_PATH)\n",
    "df_test = pd.read_parquet(TEST_DF_PATH)"
   ]
  },
  {
   "cell_type": "code",
   "execution_count": 3,
   "metadata": {},
   "outputs": [
    {
     "name": "stdout",
     "output_type": "stream",
     "text": [
      "CUDA Available: True\n",
      "Number of GPUs: 1\n",
      "Current GPU: NVIDIA GeForce GTX 1650\n"
     ]
    }
   ],
   "source": [
    "# Проверка доступности GPU\n",
    "print(\"CUDA Available:\", torch.cuda.is_available())\n",
    "print(\"Number of GPUs:\", torch.cuda.device_count())\n",
    "if torch.cuda.is_available():\n",
    "    print(\"Current GPU:\", torch.cuda.get_device_name(0))\n",
    "\n",
    "# Указание устройства\n",
    "DEVICE = torch.device(\"cuda:0\")  # Используем первую видеокарту (индекс 0)"
   ]
  },
  {
   "cell_type": "code",
   "execution_count": 4,
   "metadata": {},
   "outputs": [
    {
     "name": "stderr",
     "output_type": "stream",
     "text": [
      "You are using the default legacy behaviour of the <class 'transformers.models.t5.tokenization_t5.T5Tokenizer'>. This is expected, and simply means that the `legacy` (previous) behavior will be used so nothing changes for you. If you want to use the new behaviour, set `legacy=False`. This should only be set if you understand what it means, and thoroughly read the reason why this was added as explained in https://github.com/huggingface/transformers/pull/24565\n"
     ]
    }
   ],
   "source": [
    "class ProteinSeqSmailesDataset(Dataset):\n",
    "    def __init__(self, df, tokenizer_path, input_column, output_column, max_len):\n",
    "        self.max_len = max_len\n",
    "        self.df = df\n",
    "        self.input_column = input_column\n",
    "        self.output_column = output_column\n",
    "        self.tokenizer = T5Tokenizer.from_pretrained(tokenizer_path)\n",
    "\n",
    "    def __len__(self):\n",
    "        return len(self.df)\n",
    "    \n",
    "    def __getitem__(self, index):\n",
    "        row = self.df.iloc[index]\n",
    "\n",
    "        inputs = self.tokenizer.encode_plus(\n",
    "            row[self.input_column],\n",
    "            add_special_tokens=True,\n",
    "            max_length=self.max_len,\n",
    "            padding='max_length',\n",
    "            return_token_type_ids=True,\n",
    "            return_attention_mask=True,\n",
    "            truncation=True,\n",
    "            return_tensors='pt'\n",
    "        )\n",
    "\n",
    "        labels = self.tokenizer.encode_plus(\n",
    "            row[self.output_column],\n",
    "            add_special_tokens=True,\n",
    "            max_length=self.max_len,\n",
    "            padding='max_length',\n",
    "            return_token_type_ids=True,\n",
    "            return_attention_mask=True,\n",
    "            truncation=True,\n",
    "            return_tensors='pt'\n",
    "        )\n",
    "    \n",
    "        return {\n",
    "            'input_ids': inputs['input_ids'].flatten(),\n",
    "            'attention_mask': inputs['attention_mask'].flatten(),\n",
    "            'labels': labels['input_ids'].flatten(),\n",
    "        }\n",
    "\n",
    "train_dataset = ProteinSeqSmailesDataset(df_train, BASE_MODEL_PATH, 'Target', 'Drug', MAX_LEN)\n",
    "valid_dataset = ProteinSeqSmailesDataset(df_valid, BASE_MODEL_PATH, 'Target', 'Drug', MAX_LEN)\n",
    "test_dataset = ProteinSeqSmailesDataset(df_test, BASE_MODEL_PATH, 'Target', 'Drug', MAX_LEN)\n"
   ]
  },
  {
   "cell_type": "code",
   "execution_count": 5,
   "metadata": {},
   "outputs": [],
   "source": [
    "valid_loader = DataLoader(valid_dataset, batch_size=VALID_BATCH_SIZE, generator=torch.manual_seed(SEED), num_workers=0, shuffle=True, pin_memory=True)\n",
    "test_loader = DataLoader(test_dataset, batch_size=TEST_BATCH_SIZE, generator=torch.manual_seed(SEED), num_workers=0, shuffle=True, pin_memory=True)"
   ]
  },
  {
   "cell_type": "code",
   "execution_count": 6,
   "metadata": {},
   "outputs": [],
   "source": [
    "model = T5ForConditionalGeneration.from_pretrained(BASE_MODEL_PATH)\n",
    "for param in model.parameters():\n",
    "    param.requires_grad = True\n",
    "\n",
    "model = model.to(DEVICE)"
   ]
  },
  {
   "cell_type": "code",
   "execution_count": 7,
   "metadata": {},
   "outputs": [],
   "source": [
    "optimizer = torch.optim.AdamW(params=model.parameters(), lr=LEARNING_RATE)\n",
    "scheduler = torch.optim.lr_scheduler.ReduceLROnPlateau(\n",
    "    optimizer=optimizer,\n",
    "    mode='min',\n",
    "    factor=0.9,\n",
    "    patience=2,\n",
    "    )\n",
    "\n",
    "loss_status = {\n",
    "    'train': [],\n",
    "    'valid': []\n",
    "}\n",
    "min_valid_loss = float('inf')\n",
    "epochs_without_improvement = 0\n",
    "saved_models_path = []"
   ]
  },
  {
   "cell_type": "code",
   "execution_count": 8,
   "metadata": {},
   "outputs": [],
   "source": [
    "initial_data_size = 4500  # Начальное количество строк\n",
    "data_increment_step = 1000  # Шаг увеличения данных\n",
    "current_data_size = initial_data_size  # Текущее количество строк для обучения"
   ]
  },
  {
   "cell_type": "code",
   "execution_count": 9,
   "metadata": {},
   "outputs": [
    {
     "name": "stdout",
     "output_type": "stream",
     "text": [
      "Epoch 1: Training on 4500 samples\n"
     ]
    },
    {
     "name": "stderr",
     "output_type": "stream",
     "text": [
      "Train:   0%|          | 0/563 [00:00<?, ?it/s]"
     ]
    },
    {
     "name": "stderr",
     "output_type": "stream",
     "text": [
      "Passing a tuple of `past_key_values` is deprecated and will be removed in Transformers v4.48.0. You should pass an instance of `EncoderDecoderCache` instead, e.g. `past_key_values=EncoderDecoderCache.from_legacy_cache(past_key_values)`.\n",
      "Train: 100%|██████████| 563/563 [2:13:51<00:00, 14.27s/it]  \n",
      "Valid: 100%|██████████| 63/63 [05:24<00:00,  5.15s/it]\n"
     ]
    },
    {
     "name": "stdout",
     "output_type": "stream",
     "text": [
      "---------------------EPOCH: 0---------------------\n",
      "Loss:\n",
      "  Train: 1.20951\n",
      "  Valid: 0.35877\n",
      "--------------------------------------------------\n",
      "\n",
      "Epoch 2: Training on 5500 samples\n"
     ]
    },
    {
     "name": "stderr",
     "output_type": "stream",
     "text": [
      "Train: 100%|██████████| 688/688 [2:43:02<00:00, 14.22s/it]  \n",
      "Valid: 100%|██████████| 63/63 [05:12<00:00,  4.96s/it]\n"
     ]
    },
    {
     "name": "stdout",
     "output_type": "stream",
     "text": [
      "---------------------EPOCH: 1---------------------\n",
      "Loss:\n",
      "  Train: 0.34949\n",
      "  Valid: 0.25572\n",
      "--------------------------------------------------\n",
      "\n",
      "Epoch 3: Training on 6500 samples\n"
     ]
    },
    {
     "name": "stderr",
     "output_type": "stream",
     "text": [
      "Train: 100%|██████████| 813/813 [3:12:54<00:00, 14.24s/it]  \n",
      "Valid: 100%|██████████| 63/63 [05:54<00:00,  5.62s/it]\n"
     ]
    },
    {
     "name": "stdout",
     "output_type": "stream",
     "text": [
      "---------------------EPOCH: 2---------------------\n",
      "Loss:\n",
      "  Train: 0.25455\n",
      "  Valid: 0.19542\n",
      "--------------------------------------------------\n",
      "\n",
      "Epoch 4: Training on 7500 samples\n"
     ]
    },
    {
     "name": "stderr",
     "output_type": "stream",
     "text": [
      "Train: 100%|██████████| 938/938 [3:40:45<00:00, 14.12s/it]  \n",
      "Valid: 100%|██████████| 63/63 [05:47<00:00,  5.52s/it]\n"
     ]
    },
    {
     "name": "stdout",
     "output_type": "stream",
     "text": [
      "---------------------EPOCH: 3---------------------\n",
      "Loss:\n",
      "  Train: 0.20982\n",
      "  Valid: 0.17220\n",
      "--------------------------------------------------\n",
      "\n",
      "Epoch 5: Training on 8500 samples\n"
     ]
    },
    {
     "name": "stderr",
     "output_type": "stream",
     "text": [
      "Train: 100%|██████████| 1063/1063 [4:07:55<00:00, 13.99s/it] \n",
      "Valid: 100%|██████████| 63/63 [05:16<00:00,  5.03s/it]\n"
     ]
    },
    {
     "name": "stdout",
     "output_type": "stream",
     "text": [
      "---------------------EPOCH: 4---------------------\n",
      "Loss:\n",
      "  Train: 0.18179\n",
      "  Valid: 0.15458\n",
      "--------------------------------------------------\n",
      "\n",
      "Epoch 6: Training on 9500 samples\n"
     ]
    },
    {
     "name": "stderr",
     "output_type": "stream",
     "text": [
      "Train: 100%|██████████| 1188/1188 [4:37:54<00:00, 14.04s/it] \n",
      "Valid: 100%|██████████| 63/63 [05:41<00:00,  5.43s/it]\n"
     ]
    },
    {
     "name": "stdout",
     "output_type": "stream",
     "text": [
      "---------------------EPOCH: 5---------------------\n",
      "Loss:\n",
      "  Train: 0.16725\n",
      "  Valid: 0.14079\n",
      "--------------------------------------------------\n",
      "\n",
      "Epoch 7: Training on 10500 samples\n"
     ]
    },
    {
     "name": "stderr",
     "output_type": "stream",
     "text": [
      "Train: 100%|██████████| 1313/1313 [5:03:28<00:00, 13.87s/it]  \n",
      "Valid: 100%|██████████| 63/63 [05:49<00:00,  5.55s/it]\n"
     ]
    },
    {
     "name": "stdout",
     "output_type": "stream",
     "text": [
      "---------------------EPOCH: 6---------------------\n",
      "Loss:\n",
      "  Train: 0.15778\n",
      "  Valid: 0.12949\n",
      "--------------------------------------------------\n",
      "\n",
      "Epoch 8: Training on 11500 samples\n"
     ]
    },
    {
     "name": "stderr",
     "output_type": "stream",
     "text": [
      "Train: 100%|██████████| 1438/1438 [5:31:07<00:00, 13.82s/it]  \n",
      "Valid: 100%|██████████| 63/63 [05:14<00:00,  4.99s/it]\n"
     ]
    },
    {
     "name": "stdout",
     "output_type": "stream",
     "text": [
      "---------------------EPOCH: 7---------------------\n",
      "Loss:\n",
      "  Train: 0.14577\n",
      "  Valid: 0.12129\n",
      "--------------------------------------------------\n",
      "\n",
      "Epoch 9: Training on 12500 samples\n"
     ]
    },
    {
     "name": "stderr",
     "output_type": "stream",
     "text": [
      "Train: 100%|██████████| 1563/1563 [6:01:23<00:00, 13.87s/it]  \n",
      "Valid: 100%|██████████| 63/63 [05:34<00:00,  5.31s/it]\n"
     ]
    },
    {
     "name": "stdout",
     "output_type": "stream",
     "text": [
      "---------------------EPOCH: 8---------------------\n",
      "Loss:\n",
      "  Train: 0.13487\n",
      "  Valid: 0.11471\n",
      "--------------------------------------------------\n",
      "\n",
      "Epoch 10: Training on 13500 samples\n"
     ]
    },
    {
     "name": "stderr",
     "output_type": "stream",
     "text": [
      "Train: 100%|██████████| 1688/1688 [6:28:57<00:00, 13.83s/it]  \n",
      "Valid: 100%|██████████| 63/63 [05:33<00:00,  5.29s/it]\n"
     ]
    },
    {
     "name": "stdout",
     "output_type": "stream",
     "text": [
      "---------------------EPOCH: 9---------------------\n",
      "Loss:\n",
      "  Train: 0.12490\n",
      "  Valid: 0.10993\n",
      "--------------------------------------------------\n",
      "\n",
      "Epoch 11: Training on 14500 samples\n"
     ]
    },
    {
     "name": "stderr",
     "output_type": "stream",
     "text": [
      "Train: 100%|██████████| 1813/1813 [7:00:27<00:00, 13.92s/it]  \n",
      "Valid: 100%|██████████| 63/63 [05:06<00:00,  4.86s/it]\n"
     ]
    },
    {
     "name": "stdout",
     "output_type": "stream",
     "text": [
      "--------------------EPOCH: 10---------------------\n",
      "Loss:\n",
      "  Train: 0.11658\n",
      "  Valid: 0.10413\n",
      "--------------------------------------------------\n",
      "\n",
      "Epoch 12: Training on 15500 samples\n"
     ]
    },
    {
     "name": "stderr",
     "output_type": "stream",
     "text": [
      "Train: 100%|██████████| 1938/1938 [7:29:45<00:00, 13.92s/it]  \n",
      "Valid: 100%|██████████| 63/63 [05:47<00:00,  5.52s/it]\n"
     ]
    },
    {
     "name": "stdout",
     "output_type": "stream",
     "text": [
      "--------------------EPOCH: 11---------------------\n",
      "Loss:\n",
      "  Train: 0.10804\n",
      "  Valid: 0.10063\n",
      "--------------------------------------------------\n",
      "\n",
      "Epoch 13: Training on 16500 samples\n"
     ]
    },
    {
     "name": "stderr",
     "output_type": "stream",
     "text": [
      "Train: 100%|██████████| 2063/2063 [7:58:40<00:00, 13.92s/it]  \n",
      "Valid: 100%|██████████| 63/63 [05:48<00:00,  5.54s/it]\n"
     ]
    },
    {
     "name": "stdout",
     "output_type": "stream",
     "text": [
      "--------------------EPOCH: 12---------------------\n",
      "Loss:\n",
      "  Train: 0.09979\n",
      "  Valid: 0.09745\n",
      "--------------------------------------------------\n",
      "\n",
      "Epoch 14: Training on 17500 samples\n"
     ]
    },
    {
     "name": "stderr",
     "output_type": "stream",
     "text": [
      "Train: 100%|██████████| 2188/2188 [8:27:41<00:00, 13.92s/it]  \n",
      "Valid: 100%|██████████| 63/63 [05:12<00:00,  4.97s/it]\n"
     ]
    },
    {
     "name": "stdout",
     "output_type": "stream",
     "text": [
      "--------------------EPOCH: 13---------------------\n",
      "Loss:\n",
      "  Train: 0.09369\n",
      "  Valid: 0.09605\n",
      "--------------------------------------------------\n",
      "\n",
      "Epoch 15: Training on 18500 samples\n"
     ]
    },
    {
     "name": "stderr",
     "output_type": "stream",
     "text": [
      "Train: 100%|██████████| 2313/2313 [8:56:34<00:00, 13.92s/it]  \n",
      "Valid: 100%|██████████| 63/63 [05:37<00:00,  5.36s/it]\n"
     ]
    },
    {
     "name": "stdout",
     "output_type": "stream",
     "text": [
      "--------------------EPOCH: 14---------------------\n",
      "Loss:\n",
      "  Train: 0.09133\n",
      "  Valid: 0.09177\n",
      "--------------------------------------------------\n",
      "\n"
     ]
    }
   ],
   "source": [
    "for epoch in range(N_EPOCHS):\n",
    "    subset_indices = list(range(current_data_size))\n",
    "    subset_sampler = torch.utils.data.SubsetRandomSampler(subset_indices)\n",
    "\n",
    "    train_loader = DataLoader(\n",
    "        train_dataset,\n",
    "        batch_size=TRAIN_BATCH_SIZE,\n",
    "        sampler=subset_sampler,\n",
    "        num_workers=0,\n",
    "        pin_memory=True\n",
    "    )\n",
    "\n",
    "    print(f\"Epoch {epoch + 1}: Training on {current_data_size} samples\")\n",
    "\n",
    "    train_losses = []\n",
    "\n",
    "    model.train()\n",
    "    for i, batch in enumerate(tqdm(train_loader, 'Train')):\n",
    "        optimizer.zero_grad()\n",
    "\n",
    "        batch = {key: value.to(DEVICE) for key, value in batch.items()}\n",
    "        labels = batch['labels']\n",
    "        del batch['labels']\n",
    "\n",
    "        outputs = model(**batch, labels=labels)\n",
    "        loss = outputs.loss\n",
    "\n",
    "        loss.backward()\n",
    "        optimizer.step()\n",
    "\n",
    "        train_losses.append(loss.item())\n",
    "\n",
    "    valid_losses = []\n",
    "    model.eval()\n",
    "    with torch.no_grad():\n",
    "        for i, batch in enumerate(tqdm(valid_loader, 'Valid')):\n",
    "            batch = {key: value.to(DEVICE) for key, value in batch.items()}\n",
    "            labels = batch['labels']\n",
    "            del batch['labels']\n",
    "\n",
    "            outputs = model(**batch, labels=labels)\n",
    "            loss = outputs.loss\n",
    "\n",
    "            valid_losses.append(loss.item())\n",
    "\n",
    "    loss_status['train'].append(np.mean(train_losses))\n",
    "    loss_status['valid'].append(np.mean(valid_losses))\n",
    "\n",
    "    scheduler.step(loss_status['valid'][-1])\n",
    "\n",
    "    if loss_status[\"valid\"][-1] < min_valid_loss:\n",
    "        min_valid_loss = loss_status[\"valid\"][-1]\n",
    "        epochs_without_improvement = 0\n",
    "\n",
    "        model_name = CHECKPOINTS_DIR / MODEL_TO_SAVE_TEMPLE.format(epoch=epoch)\n",
    "        torch.save(model.state_dict(), str(model_name))\n",
    "\n",
    "        saved_models_path.append(model_name)\n",
    "        if len(saved_models_path) > LIMIT_NUM_MODELS:\n",
    "            model_to_del = saved_models_path[0]\n",
    "            model_to_del.unlink()\n",
    "            del saved_models_path[0]\n",
    "    else:\n",
    "        epochs_without_improvement += 1\n",
    "\n",
    "    if epochs_without_improvement >= PATIENCE:\n",
    "        print(f'Early stopping triggered after {epoch + 1} epochs.')\n",
    "        break\n",
    "\n",
    "    current_data_size += data_increment_step\n",
    "    current_data_size = min(current_data_size, len(train_dataset))  # Не превышаем общее количество данных\n",
    "\n",
    "    print(f\"{'EPOCH: ' + str(epoch):-^50}\")\n",
    "    print(f\"Loss:\")\n",
    "    print(f\"  Train: {loss_status['train'][-1]:.5f}\")\n",
    "    print(f\"  Valid: {loss_status['valid'][-1]:.5f}\")\n",
    "    print(\"-\" * 50, end=\"\\n\\n\")"
   ]
  },
  {
   "cell_type": "code",
   "execution_count": 10,
   "metadata": {},
   "outputs": [
    {
     "data": {
      "image/png": "[encoded data removed]",
      "text/plain": [
       "<Figure size 640x480 with 1 Axes>"
      ]
     },
     "metadata": {},
     "output_type": "display_data"
    }
   ],
   "source": [
    "plt.plot(loss_status['train'], label='train')\n",
    "plt.plot(loss_status['valid'], label='valid')\n",
    "plt.legend()\n",
    "plt.show()\n"
   ]
  },
  {
   "cell_type": "code",
   "execution_count": 11,
   "metadata": {},
   "outputs": [
    {
     "name": "stderr",
     "output_type": "stream",
     "text": [
      "Test: 100%|██████████| 125/125 [10:46<00:00,  5.17s/it]"
     ]
    },
    {
     "name": "stdout",
     "output_type": "stream",
     "text": [
      "Test Loss: 0.0924\n"
     ]
    },
    {
     "name": "stderr",
     "output_type": "stream",
     "text": [
      "\n"
     ]
    }
   ],
   "source": [
    "def evaluate_test_loss(model, data_loader, device):\n",
    "    model.eval()\n",
    "    test_losses = []\n",
    "    with torch.no_grad():\n",
    "        for batch in tqdm(data_loader, \"Test\"):\n",
    "            batch = {key: value.to(device) for key, value in batch.items()}\n",
    "            labels = batch[\"labels\"]\n",
    "            del batch[\"labels\"]\n",
    "\n",
    "            outputs = model(**batch, labels=labels)\n",
    "            loss = outputs.loss\n",
    "            test_losses.append(loss.item())\n",
    "\n",
    "    return np.mean(test_losses)\n",
    "\n",
    "test_loss = evaluate_test_loss(model, test_loader, DEVICE)\n",
    "print(f\"Test Loss: {test_loss:.4f}\")"
   ]
  }
 ],
 "metadata": {
  "kernelspec": {
   "display_name": ".graduate_work_env",
   "language": "python",
   "name": "python3"
  },
  "language_info": {
   "codemirror_mode": {
    "name": "ipython",
    "version": 3
   },
   "file_extension": ".py",
   "mimetype": "text/x-python",
   "name": "python",
   "nbconvert_exporter": "python",
   "pygments_lexer": "ipython3",
   "version": "3.10.16"
  }
 },
 "nbformat": 4,
 "nbformat_minor": 2
}
