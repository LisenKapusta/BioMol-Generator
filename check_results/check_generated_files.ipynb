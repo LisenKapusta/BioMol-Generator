{
 "cells": [
  {
   "cell_type": "code",
   "execution_count": 1,
   "id": "262c6899",
   "metadata": {},
   "outputs": [
    {
     "name": "stderr",
     "output_type": "stream",
     "text": [
      "/Users/holodkovaelizavetaigorevna/graduate_work/BioMol-Generator/check_results/molecule_evaluator.py:4: DeprecationWarning: The rdkit.Chem.MCS module is deprecated; please use rdkit.Chem.rdFMCS instead.\n",
      "  from rdkit.Chem import AllChem, MCS\n"
     ]
    }
   ],
   "source": [
    "import pandas as pd\n",
    "from molecule_evaluator import MoleculeEvaluator\n",
    "from data.constants import API_OUTPUT_FILES_PATH, FIRST_ANALYSIS_SMILES_PREDICTIONS_PATH, DATASET_PATH"
   ]
  },
  {
   "cell_type": "code",
   "execution_count": 2,
   "id": "5f0673fc",
   "metadata": {},
   "outputs": [],
   "source": [
    "df_gemini_file_path = API_OUTPUT_FILES_PATH / 'results_with_affinity_google_gemini-2.0-flash-001.csv'\n",
    "df_mistral_file_path = API_OUTPUT_FILES_PATH / 'results_with_affinity_mistralai_mistral-large-2411.csv'\n",
    "df_depseek_file_path = API_OUTPUT_FILES_PATH / 'results_with_affinity_deepseek_deepseek-coder.csv'"
   ]
  },
  {
   "cell_type": "code",
   "execution_count": 3,
   "id": "3128c213",
   "metadata": {},
   "outputs": [
    {
     "data": {
      "text/html": [
       "<div>\n",
       "<style scoped>\n",
       "    .dataframe tbody tr th:only-of-type {\n",
       "        vertical-align: middle;\n",
       "    }\n",
       "\n",
       "    .dataframe tbody tr th {\n",
       "        vertical-align: top;\n",
       "    }\n",
       "\n",
       "    .dataframe thead th {\n",
       "        text-align: right;\n",
       "    }\n",
       "</style>\n",
       "<table border=\"1\" class=\"dataframe\">\n",
       "  <thead>\n",
       "    <tr style=\"text-align: right;\">\n",
       "      <th></th>\n",
       "      <th>Sequence</th>\n",
       "      <th>Generated_SMILES</th>\n",
       "      <th>Predicted_Affinity</th>\n",
       "      <th>Attempts</th>\n",
       "    </tr>\n",
       "  </thead>\n",
       "  <tbody>\n",
       "    <tr>\n",
       "      <th>0</th>\n",
       "      <td>MSHHWGYGKHNGPEHWHKDFPIAKGERQSPVDIDTHTAKYDPSLKP...</td>\n",
       "      <td>Cc1ccc(C(=O)Nc2ccc(Cl)cc2)cc1</td>\n",
       "      <td>4.145286</td>\n",
       "      <td>0</td>\n",
       "    </tr>\n",
       "    <tr>\n",
       "      <th>1</th>\n",
       "      <td>MASPDWGYDDKNGPEQWSKLYPIANGNNQSPVDIKTSETKHDTSLK...</td>\n",
       "      <td>Cc1ccc(C(=O)Nc2ccc(C(=O)O)cc2)cc1</td>\n",
       "      <td>4.212530</td>\n",
       "      <td>0</td>\n",
       "    </tr>\n",
       "    <tr>\n",
       "      <th>2</th>\n",
       "      <td>MEPAPSAGAELQPPLFANASDAYPSACPSAGANASGPPGARSASSL...</td>\n",
       "      <td>CN1C=NC2=C1C(=O)N(C(=O)N2c1ccccc1)c1ccc(OCC(N)...</td>\n",
       "      <td>4.304656</td>\n",
       "      <td>0</td>\n",
       "    </tr>\n",
       "    <tr>\n",
       "      <th>3</th>\n",
       "      <td>MDSSTGPGNTSDCSDPLAQASCSPAPGSWLNLSHVDGNQSDPCGLN...</td>\n",
       "      <td>CN1C=NC2=C1C(=O)N(C(=O)N2c1ccccc1)Cc1ccccc1</td>\n",
       "      <td>4.324585</td>\n",
       "      <td>1</td>\n",
       "    </tr>\n",
       "    <tr>\n",
       "      <th>4</th>\n",
       "      <td>MDVVDSLLVNGSNITPPCELGLENETLFCLDQPRPSKEWQPAVQIL...</td>\n",
       "      <td>Cc1ccc(C(=O)Nc2cc(OC)c(OC)cc2)cc1</td>\n",
       "      <td>4.286520</td>\n",
       "      <td>0</td>\n",
       "    </tr>\n",
       "  </tbody>\n",
       "</table>\n",
       "</div>"
      ],
      "text/plain": [
       "                                            Sequence  \\\n",
       "0  MSHHWGYGKHNGPEHWHKDFPIAKGERQSPVDIDTHTAKYDPSLKP...   \n",
       "1  MASPDWGYDDKNGPEQWSKLYPIANGNNQSPVDIKTSETKHDTSLK...   \n",
       "2  MEPAPSAGAELQPPLFANASDAYPSACPSAGANASGPPGARSASSL...   \n",
       "3  MDSSTGPGNTSDCSDPLAQASCSPAPGSWLNLSHVDGNQSDPCGLN...   \n",
       "4  MDVVDSLLVNGSNITPPCELGLENETLFCLDQPRPSKEWQPAVQIL...   \n",
       "\n",
       "                                    Generated_SMILES  Predicted_Affinity  \\\n",
       "0                      Cc1ccc(C(=O)Nc2ccc(Cl)cc2)cc1            4.145286   \n",
       "1                  Cc1ccc(C(=O)Nc2ccc(C(=O)O)cc2)cc1            4.212530   \n",
       "2  CN1C=NC2=C1C(=O)N(C(=O)N2c1ccccc1)c1ccc(OCC(N)...            4.304656   \n",
       "3        CN1C=NC2=C1C(=O)N(C(=O)N2c1ccccc1)Cc1ccccc1            4.324585   \n",
       "4                  Cc1ccc(C(=O)Nc2cc(OC)c(OC)cc2)cc1            4.286520   \n",
       "\n",
       "   Attempts  \n",
       "0         0  \n",
       "1         0  \n",
       "2         0  \n",
       "3         1  \n",
       "4         0  "
      ]
     },
     "execution_count": 3,
     "metadata": {},
     "output_type": "execute_result"
    }
   ],
   "source": [
    "df_gemini = pd.read_csv(df_gemini_file_path)\n",
    "df_mistral = pd.read_csv(df_mistral_file_path)\n",
    "df_deepseek = pd.read_csv(df_depseek_file_path)\n",
    "df_gemini.head()"
   ]
  },
  {
   "cell_type": "code",
   "execution_count": 4,
   "id": "29cc2fe5",
   "metadata": {},
   "outputs": [],
   "source": [
    "def found_generated_smiles(sequence, df):\n",
    "    generated_smiles = df[\"Generated_SMILES\"][df[\"Sequence\"] == sequence].squeeze()\n",
    "    return generated_smiles"
   ]
  },
  {
   "cell_type": "markdown",
   "id": "3afb19ba",
   "metadata": {},
   "source": [
    "## метрика - значение\n",
    "Valid_Molecules - Все сгенерированные молекулы — валидные (корректные) SMILES\n",
    "Total_Molecules - Общее количество проверенных молекул\n",
    "Valid_Ratio - Процент валидных химических молекул\n",
    "Acceptable_Molecules - количество молекул прошедших порог Tanimoto Similarity ≥ 0.8\n",
    "Acceptable_Ratio -  % считающихся \"допустимыми\" по критерию Tanimoto Similarity"
   ]
  },
  {
   "cell_type": "code",
   "execution_count": 5,
   "id": "b7f98053",
   "metadata": {},
   "outputs": [],
   "source": [
    "if __name__ == \"__main__\":\n",
    "    raw_df = pd.read_parquet(DATASET_PATH)\n",
    "    raw_df[\"Generated_SMILES\"] = raw_df[\"Target\"].apply(lambda x: found_generated_smiles(x, df_gemini))\n",
    "    raw_df.to_csv(DATASET_PATH.parent / f'raw_{df_gemini_file_path.name}', index=False)\n",
    "    input_file=str(DATASET_PATH.parent / f'raw_{df_gemini_file_path.name}')\n",
    "    folder_path = FIRST_ANALYSIS_SMILES_PREDICTIONS_PATH / f'check-{df_gemini_file_path.name}'\n",
    "    folder_path.mkdir(parents=True, exist_ok=True)\n",
    "    output_file=str(folder_path / f'check-{df_gemini_file_path.name}')\n",
    "\n",
    "    evaluator = MoleculeEvaluator(input_file, output_file)\n",
    "\n",
    "    summary, results_df = evaluator.run()\n",
    "\n",
    "    print(\"Summary Statistics:\")\n",
    "    for key, value in summary.items():\n",
    "        print(f\"{key}: {value:.2f}\" if isinstance(value, float) else f\"{key}: {value}\")"
   ]
  },
  {
   "cell_type": "code",
   "execution_count": null,
   "id": "4b84388a",
   "metadata": {},
   "outputs": [],
   "source": [
    "if __name__ == \"__main__\":\n",
    "    raw_df = pd.read_parquet(DATASET_PATH)\n",
    "    raw_df[\"Generated_SMILES\"] = raw_df[\"Target\"].apply(lambda x: found_generated_smiles(x, df_mistral))\n",
    "    raw_df.to_csv(DATASET_PATH.parent / f'raw_{df_mistral_file_path.name}', index=False)\n",
    "    input_file=str(DATASET_PATH.parent / f'raw_{df_mistral_file_path.name}')\n",
    "    folder_path = FIRST_ANALYSIS_SMILES_PREDICTIONS_PATH / f'check-{df_mistral_file_path.name}'\n",
    "    folder_path.mkdir(parents=True, exist_ok=True)\n",
    "    output_file=str(folder_path / f'check-{df_mistral_file_path.name}')\n",
    "\n",
    "    evaluator = MoleculeEvaluator(input_file, output_file)\n",
    "\n",
    "    summary, results_df = evaluator.run()\n",
    "\n",
    "    print(\"Summary Statistics:\")\n",
    "    for key, value in summary.items():\n",
    "        print(f\"{key}: {value:.2f}\" if isinstance(value, float) else f\"{key}: {value}\")"
   ]
  },
  {
   "cell_type": "code",
   "execution_count": null,
   "id": "2e90708a",
   "metadata": {},
   "outputs": [],
   "source": [
    "if __name__ == \"__main__\":\n",
    "    raw_df = pd.read_parquet(DATASET_PATH)\n",
    "    raw_df[\"Generated_SMILES\"] = raw_df[\"Target\"].apply(lambda x: found_generated_smiles(x, df_deepseek))\n",
    "    raw_df.to_csv(DATASET_PATH.parent / f'raw_{df_depseek_file_path.name}', index=False)\n",
    "    input_file=str(DATASET_PATH.parent / f'raw_{df_depseek_file_path.name}')\n",
    "    folder_path = FIRST_ANALYSIS_SMILES_PREDICTIONS_PATH / f'check-{df_depseek_file_path.name}'\n",
    "    folder_path.mkdir(parents=True, exist_ok=True)\n",
    "    output_file=str(folder_path / f'check-{df_depseek_file_path.name}')\n",
    "\n",
    "    evaluator = MoleculeEvaluator(input_file, output_file)\n",
    "\n",
    "    summary, results_df = evaluator.run()\n",
    "\n",
    "    print(\"Summary Statistics:\")\n",
    "    for key, value in summary.items():\n",
    "        print(f\"{key}: {value:.2f}\" if isinstance(value, float) else f\"{key}: {value}\")"
   ]
  }
 ],
 "metadata": {
  "kernelspec": {
   "display_name": ".graduate_work_env",
   "language": "python",
   "name": "python3"
  },
  "language_info": {
   "codemirror_mode": {
    "name": "ipython",
    "version": 3
   },
   "file_extension": ".py",
   "mimetype": "text/x-python",
   "name": "python",
   "nbconvert_exporter": "python",
   "pygments_lexer": "ipython3",
   "version": "3.10.16"
  }
 },
 "nbformat": 4,
 "nbformat_minor": 5
}
