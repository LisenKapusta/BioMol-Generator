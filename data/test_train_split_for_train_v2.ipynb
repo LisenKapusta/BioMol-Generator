{
 "cells": [
  {
   "cell_type": "code",
   "execution_count": 26,
   "metadata": {},
   "outputs": [],
   "source": [
    "import pandas as pd\n",
    "from sklearn.model_selection import train_test_split\n",
    "\n",
    "from data.constants import TRAIN_DF_PATH, VALID_DF_PATH, TEST_DF_PATH, DATASET_PATH\n"
   ]
  },
  {
   "cell_type": "code",
   "execution_count": 27,
   "metadata": {},
   "outputs": [],
   "source": [
    "df = pd.read_parquet(DATASET_PATH)"
   ]
  },
  {
   "cell_type": "code",
   "execution_count": 28,
   "metadata": {},
   "outputs": [],
   "source": [
    "initial_data_size = 5000\n",
    "df_train_initial = df.iloc[:initial_data_size]"
   ]
  },
  {
   "cell_type": "code",
   "execution_count": 29,
   "metadata": {},
   "outputs": [
    {
     "name": "stdout",
     "output_type": "stream",
     "text": [
      "500\n",
      "1000\n",
      "1500\n"
     ]
    }
   ],
   "source": [
    "df_train, df_test = train_test_split(df_train_initial, test_size=0.2, shuffle=True, random_state=42)\n",
    "df_train, df_valid = train_test_split(df_train_initial, test_size=0.1, shuffle=True, random_state=42)\n",
    "valid_ids_list = df_valid.index.tolist()\n",
    "print(len(valid_ids_list))\n",
    "test_ids_list = df_test.index.tolist()\n",
    "print(len(test_ids_list))\n",
    "valid_ids_list.extend(test_ids_list)\n",
    "print(len(valid_ids_list))\n"
   ]
  },
  {
   "cell_type": "code",
   "execution_count": 30,
   "metadata": {},
   "outputs": [
    {
     "name": "stdout",
     "output_type": "stream",
     "text": [
      "<class 'pandas.core.frame.DataFrame'>\n",
      "Int64Index: 23700 entries, 0 to 24699\n",
      "Data columns (total 6 columns):\n",
      " #   Column     Non-Null Count  Dtype  \n",
      "---  ------     --------------  -----  \n",
      " 0   Index      23700 non-null  object \n",
      " 1   Drug_ID    23700 non-null  object \n",
      " 2   Drug       23700 non-null  object \n",
      " 3   Target_ID  23700 non-null  object \n",
      " 4   Target     23700 non-null  object \n",
      " 5   Y          23700 non-null  float32\n",
      "dtypes: float32(1), object(5)\n",
      "memory usage: 1.2+ MB\n"
     ]
    }
   ],
   "source": [
    "df_train = df.drop(valid_ids_list)\n",
    "df_train.info()"
   ]
  },
  {
   "cell_type": "code",
   "execution_count": 31,
   "metadata": {},
   "outputs": [],
   "source": [
    "df_train.to_parquet(TRAIN_DF_PATH, index=False)\n",
    "df_valid.to_parquet(VALID_DF_PATH, index=False)\n",
    "df_test.to_parquet(TEST_DF_PATH, index=False)\n"
   ]
  }
 ],
 "metadata": {
  "kernelspec": {
   "display_name": ".gata_collection_3_9",
   "language": "python",
   "name": "python3"
  },
  "language_info": {
   "codemirror_mode": {
    "name": "ipython",
    "version": 3
   },
   "file_extension": ".py",
   "mimetype": "text/x-python",
   "name": "python",
   "nbconvert_exporter": "python",
   "pygments_lexer": "ipython3",
   "version": "3.10.16"
  }
 },
 "nbformat": 4,
 "nbformat_minor": 2
}
