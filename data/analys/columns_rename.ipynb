{
 "cells": [
  {
   "cell_type": "code",
   "execution_count": 1,
   "id": "30d03131",
   "metadata": {},
   "outputs": [],
   "source": [
    "import pandas as pd\n",
    "from data.constants import SYSTEM, PREPROMPT, POSTPROMPT, TEST_DF_PATH, API_KEY, API_OUTPUT_FILES_PATH, DEEPDTA_MODEL_PATH, DATASET_FOR_API_MODELS\n",
    "\n",
    "df = pd.read_csv(API_OUTPUT_FILES_PATH / \"results_with_affinity_deepseek_deepseek-coder.csv\")\n",
    "df.columns = ['Unnamed: 0', 'seq', 'smiles_can', 'Predicted_Affinity',\n",
    "       'Attempts']\n",
    "df = df.loc[:, ['seq', 'smiles_can']]"
   ]
  },
  {
   "cell_type": "code",
   "execution_count": 2,
   "id": "b24d37e6",
   "metadata": {},
   "outputs": [
    {
     "data": {
      "text/html": [
       "<div>\n",
       "<style scoped>\n",
       "    .dataframe tbody tr th:only-of-type {\n",
       "        vertical-align: middle;\n",
       "    }\n",
       "\n",
       "    .dataframe tbody tr th {\n",
       "        vertical-align: top;\n",
       "    }\n",
       "\n",
       "    .dataframe thead th {\n",
       "        text-align: right;\n",
       "    }\n",
       "</style>\n",
       "<table border=\"1\" class=\"dataframe\">\n",
       "  <thead>\n",
       "    <tr style=\"text-align: right;\">\n",
       "      <th></th>\n",
       "      <th>seq</th>\n",
       "      <th>smiles_can</th>\n",
       "    </tr>\n",
       "  </thead>\n",
       "  <tbody>\n",
       "    <tr>\n",
       "      <th>0</th>\n",
       "      <td>MAPWPHENSSLAPWPDLPTLAPNTANTSGLPGVPWEAALAGALLAL...</td>\n",
       "      <td>COc1ccc(cc1)C(=O)NCC2CCN(CC2)c3nc4ccccc4[nH]3</td>\n",
       "    </tr>\n",
       "    <tr>\n",
       "      <th>1</th>\n",
       "      <td>MAALSGGGGGGAEPGQALFNGDMEPEAGAGAGAAASSAADPAIPEE...</td>\n",
       "      <td>COc1ccc(cc1)C(=O)Nc2ncc(cn2)c3cc(ccc3O)C(=O)O</td>\n",
       "    </tr>\n",
       "    <tr>\n",
       "      <th>2</th>\n",
       "      <td>MRPSGTAGAALLALLAALCPASRALEEKKVCQGTSNKLTQLGTFED...</td>\n",
       "      <td>COc1ccc(cc1)C(=O)Nc2ncc(cn2)c3cc(OC)ccc3OC</td>\n",
       "    </tr>\n",
       "    <tr>\n",
       "      <th>3</th>\n",
       "      <td>MGNAAAAKKGSEQESVKEFLAKAKEDFLKKWETPSQNTAQLDQFDR...</td>\n",
       "      <td>CC1=CC(=O)NC(=O)N1C2=CC=C(C=C2)C(=O)NC3=CC=CC=C3</td>\n",
       "    </tr>\n",
       "    <tr>\n",
       "      <th>4</th>\n",
       "      <td>MSRPPPTGKMPGAPETAPGDGAGASRQRKLEALIRDPRSPINVESL...</td>\n",
       "      <td>COc1ccc(cc1)C(=O)Nc2ncc(cn2)c3cc(OC)ccc3OC</td>\n",
       "    </tr>\n",
       "  </tbody>\n",
       "</table>\n",
       "</div>"
      ],
      "text/plain": [
       "                                                 seq  \\\n",
       "0  MAPWPHENSSLAPWPDLPTLAPNTANTSGLPGVPWEAALAGALLAL...   \n",
       "1  MAALSGGGGGGAEPGQALFNGDMEPEAGAGAGAAASSAADPAIPEE...   \n",
       "2  MRPSGTAGAALLALLAALCPASRALEEKKVCQGTSNKLTQLGTFED...   \n",
       "3  MGNAAAAKKGSEQESVKEFLAKAKEDFLKKWETPSQNTAQLDQFDR...   \n",
       "4  MSRPPPTGKMPGAPETAPGDGAGASRQRKLEALIRDPRSPINVESL...   \n",
       "\n",
       "                                         smiles_can  \n",
       "0     COc1ccc(cc1)C(=O)NCC2CCN(CC2)c3nc4ccccc4[nH]3  \n",
       "1     COc1ccc(cc1)C(=O)Nc2ncc(cn2)c3cc(ccc3O)C(=O)O  \n",
       "2        COc1ccc(cc1)C(=O)Nc2ncc(cn2)c3cc(OC)ccc3OC  \n",
       "3  CC1=CC(=O)NC(=O)N1C2=CC=C(C=C2)C(=O)NC3=CC=CC=C3  \n",
       "4        COc1ccc(cc1)C(=O)Nc2ncc(cn2)c3cc(OC)ccc3OC  "
      ]
     },
     "execution_count": 2,
     "metadata": {},
     "output_type": "execute_result"
    }
   ],
   "source": [
    "df.head()"
   ]
  },
  {
   "cell_type": "code",
   "execution_count": 3,
   "id": "458f7d69",
   "metadata": {},
   "outputs": [],
   "source": [
    "df.to_csv(r\"E:\\graduate_work_rep\\BioMol-Generator\\BAPULM\\data\\results_with_affinity_deepseek_deepseek-coder.csv\", index=False)"
   ]
  },
  {
   "cell_type": "code",
   "execution_count": 4,
   "id": "072be399",
   "metadata": {},
   "outputs": [
    {
     "data": {
      "text/html": [
       "<div>\n",
       "<style scoped>\n",
       "    .dataframe tbody tr th:only-of-type {\n",
       "        vertical-align: middle;\n",
       "    }\n",
       "\n",
       "    .dataframe tbody tr th {\n",
       "        vertical-align: top;\n",
       "    }\n",
       "\n",
       "    .dataframe thead th {\n",
       "        text-align: right;\n",
       "    }\n",
       "</style>\n",
       "<table border=\"1\" class=\"dataframe\">\n",
       "  <thead>\n",
       "    <tr style=\"text-align: right;\">\n",
       "      <th></th>\n",
       "      <th>seq</th>\n",
       "      <th>smiles_can</th>\n",
       "    </tr>\n",
       "  </thead>\n",
       "  <tbody>\n",
       "    <tr>\n",
       "      <th>0</th>\n",
       "      <td>MSHHWGYGKHNGPEHWHKDFPIAKGERQSPVDIDTHTAKYDPSLKP...</td>\n",
       "      <td>Cc1ccc(C(=O)Nc2ccc(Cl)cc2)cc1</td>\n",
       "    </tr>\n",
       "    <tr>\n",
       "      <th>1</th>\n",
       "      <td>MASPDWGYDDKNGPEQWSKLYPIANGNNQSPVDIKTSETKHDTSLK...</td>\n",
       "      <td>Cc1ccc(C(=O)Nc2ccc(C(=O)O)cc2)cc1</td>\n",
       "    </tr>\n",
       "    <tr>\n",
       "      <th>2</th>\n",
       "      <td>MEPAPSAGAELQPPLFANASDAYPSACPSAGANASGPPGARSASSL...</td>\n",
       "      <td>CN1C=NC2=C1C(=O)N(C(=O)N2c1ccccc1)c1ccc(OCC(N)...</td>\n",
       "    </tr>\n",
       "    <tr>\n",
       "      <th>3</th>\n",
       "      <td>MDSSTGPGNTSDCSDPLAQASCSPAPGSWLNLSHVDGNQSDPCGLN...</td>\n",
       "      <td>CN1C=NC2=C1C(=O)N(C(=O)N2c1ccccc1)Cc1ccccc1</td>\n",
       "    </tr>\n",
       "    <tr>\n",
       "      <th>4</th>\n",
       "      <td>MDVVDSLLVNGSNITPPCELGLENETLFCLDQPRPSKEWQPAVQIL...</td>\n",
       "      <td>Cc1ccc(C(=O)Nc2cc(OC)c(OC)cc2)cc1</td>\n",
       "    </tr>\n",
       "  </tbody>\n",
       "</table>\n",
       "</div>"
      ],
      "text/plain": [
       "                                                 seq  \\\n",
       "0  MSHHWGYGKHNGPEHWHKDFPIAKGERQSPVDIDTHTAKYDPSLKP...   \n",
       "1  MASPDWGYDDKNGPEQWSKLYPIANGNNQSPVDIKTSETKHDTSLK...   \n",
       "2  MEPAPSAGAELQPPLFANASDAYPSACPSAGANASGPPGARSASSL...   \n",
       "3  MDSSTGPGNTSDCSDPLAQASCSPAPGSWLNLSHVDGNQSDPCGLN...   \n",
       "4  MDVVDSLLVNGSNITPPCELGLENETLFCLDQPRPSKEWQPAVQIL...   \n",
       "\n",
       "                                          smiles_can  \n",
       "0                      Cc1ccc(C(=O)Nc2ccc(Cl)cc2)cc1  \n",
       "1                  Cc1ccc(C(=O)Nc2ccc(C(=O)O)cc2)cc1  \n",
       "2  CN1C=NC2=C1C(=O)N(C(=O)N2c1ccccc1)c1ccc(OCC(N)...  \n",
       "3        CN1C=NC2=C1C(=O)N(C(=O)N2c1ccccc1)Cc1ccccc1  \n",
       "4                  Cc1ccc(C(=O)Nc2cc(OC)c(OC)cc2)cc1  "
      ]
     },
     "execution_count": 4,
     "metadata": {},
     "output_type": "execute_result"
    }
   ],
   "source": [
    "df = pd.read_csv(API_OUTPUT_FILES_PATH / \"results_with_affinity_google_gemini-2.0-flash-001.csv\")\n",
    "df.columns = ['seq', 'smiles_can', 'Predicted_Affinity',\n",
    "       'Attempts']\n",
    "df = df.loc[:, ['seq', 'smiles_can']]\n",
    "df.head()"
   ]
  },
  {
   "cell_type": "code",
   "execution_count": 5,
   "id": "ea7c6b9e",
   "metadata": {},
   "outputs": [],
   "source": [
    "\n",
    "df.to_csv(r\"E:\\graduate_work_rep\\BioMol-Generator\\BAPULM\\data\\results_with_affinity_google_gemini-2.0-flash-001.csv\", index=False)\n"
   ]
  },
  {
   "cell_type": "code",
   "execution_count": 6,
   "id": "6ece7354",
   "metadata": {},
   "outputs": [
    {
     "data": {
      "text/html": [
       "<div>\n",
       "<style scoped>\n",
       "    .dataframe tbody tr th:only-of-type {\n",
       "        vertical-align: middle;\n",
       "    }\n",
       "\n",
       "    .dataframe tbody tr th {\n",
       "        vertical-align: top;\n",
       "    }\n",
       "\n",
       "    .dataframe thead th {\n",
       "        text-align: right;\n",
       "    }\n",
       "</style>\n",
       "<table border=\"1\" class=\"dataframe\">\n",
       "  <thead>\n",
       "    <tr style=\"text-align: right;\">\n",
       "      <th></th>\n",
       "      <th>seq</th>\n",
       "      <th>smiles_can</th>\n",
       "    </tr>\n",
       "  </thead>\n",
       "  <tbody>\n",
       "    <tr>\n",
       "      <th>0</th>\n",
       "      <td>MSHHWGYGKHNGPEHWHKDFPIAKGERQSPVDIDTHTAKYDPSLKP...</td>\n",
       "      <td>CN1CCC(CC1)C(=O)Nc2ccc(O)c(O)c2</td>\n",
       "    </tr>\n",
       "    <tr>\n",
       "      <th>1</th>\n",
       "      <td>MASPDWGYDDKNGPEQWSKLYPIANGNNQSPVDIKTSETKHDTSLK...</td>\n",
       "      <td>CCOc1ccc2c(c1)CCC(=O)N2Cc3ccccc3</td>\n",
       "    </tr>\n",
       "    <tr>\n",
       "      <th>2</th>\n",
       "      <td>MEPAPSAGAELQPPLFANASDAYPSACPSAGANASGPPGARSASSL...</td>\n",
       "      <td>CN(C)C(=O)c1ccc(cc1)c2ccccc2O</td>\n",
       "    </tr>\n",
       "    <tr>\n",
       "      <th>3</th>\n",
       "      <td>MDSSTGPGNTSDCSDPLAQASCSPAPGSWLNLSHVDGNQSDPCGLN...</td>\n",
       "      <td>CCOc1ccc(cc1)C(=O)c2ccc(cc2)C(=O)O</td>\n",
       "    </tr>\n",
       "    <tr>\n",
       "      <th>4</th>\n",
       "      <td>MDVVDSLLVNGSNITPPCELGLENETLFCLDQPRPSKEWQPAVQIL...</td>\n",
       "      <td>CN1CCC(CC1)C(=O)C2=CC=C(C=C2)C(=O)O</td>\n",
       "    </tr>\n",
       "  </tbody>\n",
       "</table>\n",
       "</div>"
      ],
      "text/plain": [
       "                                                 seq  \\\n",
       "0  MSHHWGYGKHNGPEHWHKDFPIAKGERQSPVDIDTHTAKYDPSLKP...   \n",
       "1  MASPDWGYDDKNGPEQWSKLYPIANGNNQSPVDIKTSETKHDTSLK...   \n",
       "2  MEPAPSAGAELQPPLFANASDAYPSACPSAGANASGPPGARSASSL...   \n",
       "3  MDSSTGPGNTSDCSDPLAQASCSPAPGSWLNLSHVDGNQSDPCGLN...   \n",
       "4  MDVVDSLLVNGSNITPPCELGLENETLFCLDQPRPSKEWQPAVQIL...   \n",
       "\n",
       "                            smiles_can  \n",
       "0      CN1CCC(CC1)C(=O)Nc2ccc(O)c(O)c2  \n",
       "1     CCOc1ccc2c(c1)CCC(=O)N2Cc3ccccc3  \n",
       "2        CN(C)C(=O)c1ccc(cc1)c2ccccc2O  \n",
       "3   CCOc1ccc(cc1)C(=O)c2ccc(cc2)C(=O)O  \n",
       "4  CN1CCC(CC1)C(=O)C2=CC=C(C=C2)C(=O)O  "
      ]
     },
     "execution_count": 6,
     "metadata": {},
     "output_type": "execute_result"
    }
   ],
   "source": [
    "df = pd.read_csv(API_OUTPUT_FILES_PATH / \"results_with_affinity_mistralai_mistral-large-2411.csv\")\n",
    "df.columns = ['seq', 'smiles_can', 'Predicted_Affinity',\n",
    "       'Attempts']\n",
    "df = df.loc[:, ['seq', 'smiles_can']]\n",
    "\n",
    "df.head()\n"
   ]
  },
  {
   "cell_type": "code",
   "execution_count": 7,
   "id": "0caf60aa",
   "metadata": {},
   "outputs": [],
   "source": [
    "df.to_csv(r\"E:\\graduate_work_rep\\BioMol-Generator\\BAPULM\\data\\results_with_affinity_mistralai_mistral-large-2411.csv\", index=False)\n"
   ]
  },
  {
   "cell_type": "code",
   "execution_count": null,
   "id": "ed616d4f",
   "metadata": {},
   "outputs": [],
   "source": []
  }
 ],
 "metadata": {
  "kernelspec": {
   "display_name": ".graduate_work_env",
   "language": "python",
   "name": "python3"
  },
  "language_info": {
   "codemirror_mode": {
    "name": "ipython",
    "version": 3
   },
   "file_extension": ".py",
   "mimetype": "text/x-python",
   "name": "python",
   "nbconvert_exporter": "python",
   "pygments_lexer": "ipython3",
   "version": "3.10.16"
  }
 },
 "nbformat": 4,
 "nbformat_minor": 5
}
