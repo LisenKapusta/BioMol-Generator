{
 "cells": [
  {
   "cell_type": "code",
   "execution_count": 1,
   "metadata": {},
   "outputs": [],
   "source": [
    "import pandas as pd\n",
    "\n",
    "from api_model import LigandGenerator\n",
    "from data.constants import SYSTEM, PREPROMPT, POSTPROMPT, PROMPT_OUTPUT_FILE_PATH, TEST_DF_PATH"
   ]
  },
  {
   "cell_type": "code",
   "execution_count": 2,
   "metadata": {},
   "outputs": [],
   "source": [
    "if __name__ == \"__main__\":\n",
    "    # Настройки\n",
    "    api_key = \"api-key\"\n",
    "    model = \"deepseek/deepseek-coder\"  # Выберите модель из списка\n",
    "    system_file_path = SYSTEM\n",
    "    preprompt_file_path = PREPROMPT\n",
    "    postprompt_file_path = POSTPROMPT\n",
    "\n",
    "    # Инициализация класса\n",
    "    generator = LigandGenerator(\n",
    "        api_key=api_key,\n",
    "        model=model,\n",
    "        system_file_path=system_file_path,\n",
    "        preprompt_file_path=preprompt_file_path,\n",
    "        postprompt_file_path=postprompt_file_path\n",
    "    )\n",
    "\n",
    "    df = pd.read_parquet(TEST_DF_PATH)\n",
    "    # df = df.iloc[:30, :]\n",
    "\n",
    "    # Обработка данных\n",
    "    processed_df = generator.process_dataframe(df, target_column=\"Target\", output_column=\"Generated_SMILES\")\n",
    "\n",
    "    # Сохранение результатов\n",
    "    output_file = \"/Users/holodkovaelizavetaigorevna/graduate_work/BioMol-Generator/model_prompting/api_models/results.csv\"\n",
    "    generator.save_results(processed_df, output_file)"
   ]
  },
  {
   "cell_type": "code",
   "execution_count": 3,
   "metadata": {},
   "outputs": [],
   "source": [
    "df1 = pd.read_csv(output_file)"
   ]
  },
  {
   "cell_type": "code",
   "execution_count": 4,
   "metadata": {},
   "outputs": [
    {
     "data": {
      "text/html": [
       "<div>\n",
       "<style scoped>\n",
       "    .dataframe tbody tr th:only-of-type {\n",
       "        vertical-align: middle;\n",
       "    }\n",
       "\n",
       "    .dataframe tbody tr th {\n",
       "        vertical-align: top;\n",
       "    }\n",
       "\n",
       "    .dataframe thead th {\n",
       "        text-align: right;\n",
       "    }\n",
       "</style>\n",
       "<table border=\"1\" class=\"dataframe\">\n",
       "  <thead>\n",
       "    <tr style=\"text-align: right;\">\n",
       "      <th></th>\n",
       "      <th>Index</th>\n",
       "      <th>Drug_ID</th>\n",
       "      <th>Drug</th>\n",
       "      <th>Target_ID</th>\n",
       "      <th>Target</th>\n",
       "      <th>Y</th>\n",
       "      <th>Generated_SMILES</th>\n",
       "    </tr>\n",
       "  </thead>\n",
       "  <tbody>\n",
       "    <tr>\n",
       "      <th>0</th>\n",
       "      <td>1689</td>\n",
       "      <td>190816</td>\n",
       "      <td>O=C1CC2(C(=O)N1)C(=O)N(Cc1ccc(Br)cc1F)C(=O)c1c...</td>\n",
       "      <td>P15121</td>\n",
       "      <td>MASRLLLNNGAKMPILGLGTWKSPPGQVTEAVKVAIDVGYRHIDCA...</td>\n",
       "      <td>8.251812</td>\n",
       "      <td>O=C(Nc1ccc(O)cc1)c2cccn2C(=O)O</td>\n",
       "    </tr>\n",
       "    <tr>\n",
       "      <th>1</th>\n",
       "      <td>3308</td>\n",
       "      <td>138805809</td>\n",
       "      <td>COc1nc2ccc([C@@](O)(c3ccccc3)C3CCN(C(C)=O)CC3)...</td>\n",
       "      <td>P51449</td>\n",
       "      <td>MDRAPQRQHRASRELLAAKKTHTSQIEVIPCKICGDKSSGIHYGVI...</td>\n",
       "      <td>6.958213</td>\n",
       "      <td>O=C1NC2=CC=CC=C2C(=O)N1</td>\n",
       "    </tr>\n",
       "    <tr>\n",
       "      <th>2</th>\n",
       "      <td>3375</td>\n",
       "      <td>118022643</td>\n",
       "      <td>COc1nc2ccc(C(O)(c3ccc(C)nc3C)c3cnnn3C)cc2c(Cl)...</td>\n",
       "      <td>P51449</td>\n",
       "      <td>MDRAPQRQHRASRELLAAKKTHTSQIEVIPCKICGDKSSGIHYGVI...</td>\n",
       "      <td>6.221776</td>\n",
       "      <td>NaN</td>\n",
       "    </tr>\n",
       "  </tbody>\n",
       "</table>\n",
       "</div>"
      ],
      "text/plain": [
       "   Index    Drug_ID                                               Drug  \\\n",
       "0   1689     190816  O=C1CC2(C(=O)N1)C(=O)N(Cc1ccc(Br)cc1F)C(=O)c1c...   \n",
       "1   3308  138805809  COc1nc2ccc([C@@](O)(c3ccccc3)C3CCN(C(C)=O)CC3)...   \n",
       "2   3375  118022643  COc1nc2ccc(C(O)(c3ccc(C)nc3C)c3cnnn3C)cc2c(Cl)...   \n",
       "\n",
       "  Target_ID                                             Target         Y  \\\n",
       "0    P15121  MASRLLLNNGAKMPILGLGTWKSPPGQVTEAVKVAIDVGYRHIDCA...  8.251812   \n",
       "1    P51449  MDRAPQRQHRASRELLAAKKTHTSQIEVIPCKICGDKSSGIHYGVI...  6.958213   \n",
       "2    P51449  MDRAPQRQHRASRELLAAKKTHTSQIEVIPCKICGDKSSGIHYGVI...  6.221776   \n",
       "\n",
       "                 Generated_SMILES  \n",
       "0  O=C(Nc1ccc(O)cc1)c2cccn2C(=O)O  \n",
       "1         O=C1NC2=CC=CC=C2C(=O)N1  \n",
       "2                             NaN  "
      ]
     },
     "execution_count": 4,
     "metadata": {},
     "output_type": "execute_result"
    }
   ],
   "source": [
    "df1"
   ]
  },
  {
   "cell_type": "code",
   "execution_count": null,
   "metadata": {},
   "outputs": [],
   "source": []
  }
 ],
 "metadata": {
  "kernelspec": {
   "display_name": ".gata_collection_3_9",
   "language": "python",
   "name": "python3"
  },
  "language_info": {
   "codemirror_mode": {
    "name": "ipython",
    "version": 3
   },
   "file_extension": ".py",
   "mimetype": "text/x-python",
   "name": "python",
   "nbconvert_exporter": "python",
   "pygments_lexer": "ipython3",
   "version": "3.10.16"
  }
 },
 "nbformat": 4,
 "nbformat_minor": 2
}
